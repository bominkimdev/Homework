{
 "cells": [
  {
   "cell_type": "markdown",
   "id": "d51e5e22",
   "metadata": {},
   "source": [
    "# 1. LeetCode 225. Implement Stack using Queues"
   ]
  },
  {
   "cell_type": "markdown",
   "id": "2017a27f",
   "metadata": {},
   "source": [
    "```c\n",
    "#include <stdio.h>\n",
    "#include <stdlib.h>\n",
    "\n",
    "typedef char element;\n",
    "\n",
    "typedef struct StackListNode {\n",
    "    element data;\n",
    "    struct StackListNode *link;\n",
    "} StackListNode;\n",
    "\n",
    "typedef struct {\n",
    "    StackListNode *top;\n",
    "} StackTopNode;\n",
    "\n",
    "void init(StackTopNode *s) {\n",
    "    s->top = NULL;\n",
    "}\n",
    "\n",
    "int is_empty(StackTopNode *s) {\n",
    "    return (s->top == NULL);\n",
    "}\n",
    "\n",
    "void push(StackTopNode *s, element item) {\n",
    "    StackListNode *temp = (StackListNode *)malloc(sizeof(StackListNode));\n",
    "    if (temp == NULL) {\n",
    "        printf(\"메모리 할당 실패\\n\");\n",
    "        return;\n",
    "    }\n",
    "    temp->data = item;\n",
    "    temp->link = s->top;\n",
    "    s->top = temp;\n",
    "}\n",
    "\n",
    "element pop(StackTopNode *s) {\n",
    "    if (is_empty(s)) {\n",
    "        fprintf(stderr, \"스택이 비어있음\\n\");\n",
    "        exit(1);\n",
    "    }\n",
    "    StackListNode *temp = s->top;\n",
    "    element data = temp->data;\n",
    "    s->top = temp->link;\n",
    "    free(temp);\n",
    "    return data;\n",
    "}\n",
    "\n",
    "void enqueue(StackTopNode *s, element item) {\n",
    "    push(s, item);\n",
    "}\n",
    "\n",
    "element dequeue(StackTopNode *s1, StackTopNode *s2) {\n",
    "    if (is_empty(s2)) {\n",
    "        while (!is_empty(s1)) {\n",
    "            push(s2, pop(s1));\n",
    "        }\n",
    "    }\n",
    "    if (is_empty(s2)) {\n",
    "        fprintf(stderr, \"큐가 비어있습니다.\\n\");\n",
    "        exit(1);\n",
    "    }\n",
    "    return pop(s2);\n",
    "}\n",
    "\n",
    "int main(void){\n",
    "\n",
    "    return 0;\n",
    "    }\n",
    "```"
   ]
  },
  {
   "cell_type": "markdown",
   "id": "882bbe87",
   "metadata": {},
   "source": [
    "# 2. LeetCode 232. Implement Queue using Stacks"
   ]
  },
  {
   "cell_type": "markdown",
   "id": "d38ee1ae",
   "metadata": {},
   "source": [
    "```c\n",
    "#include <stdio.h>\n",
    "#include <stdlib.h>\n",
    "#include <stdbool.h>\n",
    "#define MAX_SIZE 5\n",
    "\n",
    "typedef int element;\n",
    "\n",
    "typedef struct{\n",
    "    int front; \n",
    "    int rear; \n",
    "    element data[MAX_SIZE];\n",
    "}QueueType;\n",
    "\n",
    "QueueType s;\n",
    "QueueType p;\n",
    "\n",
    "void init_Queue(QueueType *s){\n",
    "    s->front = s->rear = 0;\n",
    "}\n",
    "\n",
    "void error_message(char *m){\n",
    "    fprintf(stderr, \"%s\", m);\n",
    "    exit(1); \n",
    "}\n",
    "int is_empty(QueueType *s){\n",
    "    return ((s->front) == (s->rear)); \n",
    "}\n",
    "int is_full(QueueType *s){\n",
    "    return(((s->rear)+1)% MAX_SIZE ==s->front); \n",
    "}\n",
    "\n",
    "void enqueue(QueueType *s,element item){\n",
    "    if(is_full(s)){\n",
    "        error_message(\"포화 상태입니다.\\n\");\n",
    "        return;\n",
    "    }\n",
    "    else {\n",
    "        s->rear = (s->rear + 1) % MAX_SIZE;\n",
    "        s->data[s->rear] = item;\n",
    "\n",
    "    }\n",
    "}\n",
    "\n",
    "element dequeue(QueueType *s){\n",
    "    if(is_empty(s)){\n",
    "        error_message(\"큐가 비어있습니다.\\n\");\n",
    "        exit(1);\n",
    "    }\n",
    "    else {\n",
    "        s->front = (s->front + 1) % MAX_SIZE;\n",
    "        return s->data[s->front];\n",
    "\n",
    "    }\n",
    "}\n",
    "void push(int x){\n",
    "    enqueue(&s, x);\n",
    "}\n",
    "\n",
    "int pop(){\n",
    "    if (is_empty(&s)) {\n",
    "        error_message(\"스택이 비어 있습니다.\\n\");\n",
    "    }\n",
    "\n",
    "    while ((s.front + 1) % MAX_SIZE != s.rear) {\n",
    "        int temp = dequeue(&s);\n",
    "        enqueue(&p, temp);\n",
    "    }\n",
    "\n",
    "    int top = dequeue(&s);\n",
    "\n",
    "    while (!is_empty(&p)) {\n",
    "        enqueue(&s, dequeue(&p));\n",
    "    }\n",
    "\n",
    "    return top;\n",
    "}\n",
    "\n",
    "int main(void){\n",
    "\n",
    "    return 0;\n",
    "}\n",
    "```"
   ]
  },
  {
   "cell_type": "markdown",
   "id": "a6cef44e",
   "metadata": {},
   "source": [
    "# 3. 교재의 큐 연습문제 전부"
   ]
  },
  {
   "cell_type": "markdown",
   "id": "b7776618",
   "metadata": {},
   "source": [
    "## 01"
   ]
  },
  {
   "cell_type": "code",
   "execution_count": null,
   "id": "aefafe33",
   "metadata": {
    "vscode": {
     "languageId": "plaintext"
    }
   },
   "outputs": [],
   "source": [
    "class ListQueue:\n",
    "    def __init__(self):\n",
    "        self.__queue = []\n",
    "\n",
    "    def enqueue(self, x):\n",
    "        # self.__queue.append(x)\n",
    "        self.__insert(0,x)\n",
    "\n",
    "    def dequeue(self):\n",
    "        # return self.__queue(0).pop(0)\n",
    "        return self.__queue.pop(-1)\n",
    "    \n",
    "    def front(self):\n",
    "        return self.__queue[0]\n",
    "    \n",
    "    def isEmpty(self)->bool:\n",
    "        return len(self.__queue) == 0\n",
    "    \n",
    "    def dequeueAll(self):\n",
    "        self.__queue.clear()"
   ]
  },
  {
   "cell_type": "markdown",
   "id": "ca0ceb3e",
   "metadata": {},
   "source": [
    "## 02"
   ]
  },
  {
   "cell_type": "code",
   "execution_count": null,
   "id": "2a4ba6dc",
   "metadata": {
    "vscode": {
     "languageId": "plaintext"
    }
   },
   "outputs": [],
   "source": [
    "class ListQueue:\n",
    "    def __init__(self):\n",
    "        self.__queue = []\n",
    "\n",
    "    def enqueue(self, x):\n",
    "        # self.__queue.append(x)\n",
    "        self.__insert(0,x)\n",
    "\n",
    "    def dequeue(self):\n",
    "        # return self.__queue(0).pop(0)\n",
    "        return self.__queue.pop(-1)\n",
    "    \n",
    "    def front(self):\n",
    "        return self.__queue[0]\n",
    "    \n",
    "    def isEmpty(self)->bool:\n",
    "        return len(self.__queue) == 0\n",
    "    \n",
    "    def dequeueAll(self):\n",
    "        self.__queue.clear()\n",
    "\n",
    "    def check(self, lst):\n",
    "        for ch in lst:\n",
    "            if ch == '$':\n",
    "                break\n",
    "            else:\n",
    "                self.__queue.append(ch)\n",
    "                "
   ]
  },
  {
   "cell_type": "markdown",
   "id": "56408c3d",
   "metadata": {},
   "source": [
    "## 03"
   ]
  },
  {
   "cell_type": "code",
   "execution_count": null,
   "id": "ab9d0dbd",
   "metadata": {
    "vscode": {
     "languageId": "plaintext"
    }
   },
   "outputs": [],
   "source": [
    "def check(s):\n",
    "    from collections import deque\n",
    "\n",
    "    if '$' not in s:\n",
    "        return False\n",
    "\n",
    "    left, right = s.split('$', 1)\n",
    "    q1 = deque(left)\n",
    "    q2 = deque(right)\n",
    "\n",
    "    return q1 == q2\n",
    "\n",
    "lst = input(\"문자열을 입력하세요 : \")\n",
    "if check(lst):\n",
    "    print(\"원소가 맞습니다.\")\n",
    "else:\n",
    "    print(\"원소가 아닙니다.\")"
   ]
  },
  {
   "cell_type": "markdown",
   "id": "6c4783be",
   "metadata": {},
   "source": [
    "## 04"
   ]
  },
  {
   "cell_type": "code",
   "execution_count": null,
   "id": "f6f3eb61",
   "metadata": {
    "vscode": {
     "languageId": "plaintext"
    }
   },
   "outputs": [],
   "source": [
    "void push(int x){\n",
    "    enqueue(&s, x);\n",
    "}\n",
    "\n",
    "int pop(){\n",
    "    if (is_empty(&s)) {\n",
    "        error_message(\"스택이 비어 있습니다.\\n\");\n",
    "    }\n",
    "\n",
    "    while ((s.front + 1) % MAX_SIZE != s.rear) {\n",
    "        int temp = dequeue(&s);\n",
    "        enqueue(&p, temp);\n",
    "    }\n",
    "\n",
    "    int top = dequeue(&s);\n",
    "\n",
    "    while (!is_empty(&p)) {\n",
    "        enqueue(&s, dequeue(&p));\n",
    "    }\n",
    "\n",
    "    return top;\n",
    "}"
   ]
  },
  {
   "cell_type": "markdown",
   "id": "551f1fbe",
   "metadata": {},
   "source": [
    "## 05"
   ]
  },
  {
   "cell_type": "code",
   "execution_count": null,
   "id": "da40698c",
   "metadata": {
    "vscode": {
     "languageId": "plaintext"
    }
   },
   "outputs": [],
   "source": [
    "void enqueue(StackTopNode *s, element item) {\n",
    "    push(s, item);\n",
    "}\n",
    "\n",
    "element dequeue(StackTopNode *s1, StackTopNode *s2) {\n",
    "    if (is_empty(s2)) {\n",
    "        while (!is_empty(s1)) {\n",
    "            push(s2, pop(s1));\n",
    "        }\n",
    "    }\n",
    "    if (is_empty(s2)) {\n",
    "        fprintf(stderr, \"큐가 비어있습니다.\\n\");\n",
    "        exit(1);\n",
    "    }\n",
    "    return pop(s2);\n",
    "}"
   ]
  },
  {
   "cell_type": "markdown",
   "id": "94f52b3d",
   "metadata": {},
   "source": [
    "## 06\n",
    "#### 단방향이라서 rear의 이전노드를 알 수 없기 때문에 순회하면 O(N)이다. 답 : O(N), O(N)"
   ]
  },
  {
   "cell_type": "markdown",
   "id": "d2d42377",
   "metadata": {},
   "source": [
    "## 07 \n",
    "#### 연결리스트의 끝에 접근하기 위해서는 순회해야하므로 O(n), 가장 앞은 O(1)이다. 최악의 경우이므로 O(N)이다. 답: O(N), O(N)"
   ]
  },
  {
   "cell_type": "markdown",
   "id": "ddddd751",
   "metadata": {},
   "source": [
    "## 08"
   ]
  },
  {
   "cell_type": "code",
   "execution_count": null,
   "id": "a00037e6",
   "metadata": {
    "vscode": {
     "languageId": "plaintext"
    }
   },
   "outputs": [],
   "source": [
    "def dequeueRear(self):\n",
    "    if self.isEmpty():\n",
    "        return None\n",
    "    return self._deque.pop()\n",
    "\n",
    "def enqueueFront(self, x):\n",
    "    self._deque.inser(0,x)"
   ]
  }
 ],
 "metadata": {
  "language_info": {
   "name": "python"
  }
 },
 "nbformat": 4,
 "nbformat_minor": 5
}
