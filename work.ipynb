{
 "cells": [
  {
   "cell_type": "markdown",
   "id": "7ddafcf2",
   "metadata": {},
   "source": [
    "# 3. 생일이 느린 순서로 10명의 친구를 출력하는 코드"
   ]
  },
  {
   "cell_type": "code",
   "execution_count": null,
   "id": "17fcd56d",
   "metadata": {},
   "outputs": [],
   "source": [
    "import csv\n",
    "\n",
    "class Heap:\n",
    "    def __init__(self):\n",
    "        self.__A = []\n",
    "\n",
    "    def insert(self, x):\n",
    "        self.__A.append(x)\n",
    "        self.__percolateUp(len(self.__A) - 1)\n",
    "\n",
    "    def __percolateUp(self, i):\n",
    "        parent = (i - 1) // 2\n",
    "        if i > 0 and self.__A[i] > self.__A[parent]:\n",
    "            self.__A[i], self.__A[parent] = self.__A[parent], self.__A[i]\n",
    "            self.__percolateUp(parent)\n",
    "\n",
    "    def deleteMax(self):\n",
    "        if self.isEmpty():\n",
    "            return None\n",
    "        max_value = self.__A[0]\n",
    "        self.__A[0] = self.__A.pop()\n",
    "        self.__percolateDown(0)\n",
    "        return max_value\n",
    "\n",
    "    def __percolateDown(self, i):\n",
    "        child = 2 * i + 1\n",
    "        right = 2 * i + 2\n",
    "        if child <= len(self.__A) - 1:\n",
    "            if right <= len(self.__A) - 1 and self.__A[child] < self.__A[right]:\n",
    "                child = right\n",
    "            if self.__A[i] < self.__A[child]:\n",
    "                self.__A[i], self.__A[child] = self.__A[child], self.__A[i]\n",
    "                self.__percolateDown(child)\n",
    "\n",
    "    def max(self):\n",
    "        return self.__A[0]\n",
    "    \n",
    "    def buildHeap(self):\n",
    "        for i in range((len(self.__A)-2)//2,-1,-1):\n",
    "            self.__percolateDown(i)\n",
    "    \n",
    "    def isEmpty(self) -> bool:\n",
    "        return len(self.__A) == 0\n",
    "    \n",
    "    def clear(self):\n",
    "        self.__A = []\n",
    "    \n",
    "    def size(self) -> int:\n",
    "        return len(self.__A)\n",
    "\n",
    "heap = Heap()\n",
    "\n",
    "csv_path = \"/Users/home/Desktop/Homework/birthday.csv\"\n",
    "\n",
    "with open(csv_path, newline='') as csvfile:\n",
    "    reader = csv.reader(csvfile)\n",
    "    next(reader)\n",
    "    for row in reader:\n",
    "        if len(row) >= 3:\n",
    "            birthday = row[2].strip()\n",
    "            name = row[1].strip()\n",
    "            if birthday != \"\":\n",
    "                heap.insert((birthday, name))\n",
    "\n",
    "for i in range(10):\n",
    "    person = heap.deleteMax()\n",
    "    if person:\n",
    "        print(f\"{i+1}. {person[1]}\")\n"
   ]
  },
  {
   "cell_type": "markdown",
   "id": "45f171f6",
   "metadata": {},
   "source": [
    "#### 실행결과 : \n",
    "1. 홍서연\n",
    "2. 신수민\n",
    "3. 이서영\n",
    "4. 강민주\n",
    "5. 김민경\n",
    "6. 이서영\n",
    "7. 배시은\n",
    "8. 김여원\n",
    "9. 이서진\n",
    "10. 서홍빈"
   ]
  },
  {
   "cell_type": "markdown",
   "id": "d777ff06",
   "metadata": {},
   "source": [
    "# 4. 같은 조의 친구들만 이름과 생년월일을 출력하는 코드"
   ]
  },
  {
   "cell_type": "code",
   "execution_count": null,
   "id": "dcbe8603",
   "metadata": {},
   "outputs": [],
   "source": []
  },
  {
   "cell_type": "markdown",
   "id": "0205a732",
   "metadata": {},
   "source": [
    "#### 실행결과 : "
   ]
  },
  {
   "cell_type": "markdown",
   "id": "fd580436",
   "metadata": {},
   "source": [
    "# 5. 교재 8장 우선 순위 큐 연습문제"
   ]
  },
  {
   "cell_type": "markdown",
   "id": "88a0e217",
   "metadata": {},
   "source": [
    "### 01"
   ]
  },
  {
   "cell_type": "markdown",
   "id": "fa1d55b0",
   "metadata": {},
   "source": [
    "#### 최대 힙에서 부모 노드의 값은 자식 노드의 값보다 항상 크거나 같아야 하지만 형제 노드 간 비교는 신경쓰지 않기 떄문에 가능하다."
   ]
  },
  {
   "cell_type": "markdown",
   "id": "b03c4698",
   "metadata": {},
   "source": [
    "### 02"
   ]
  },
  {
   "cell_type": "markdown",
   "id": "d04fe125",
   "metadata": {},
   "source": [
    "#### 최대 힙에서는 부모 노드가 자식 노드보다 크거나 같다는 것만 보장될 뿐, 어떤 노드가 가장 작은 값을 가진다는 보장은 없다."
   ]
  },
  {
   "cell_type": "markdown",
   "id": "c900460f",
   "metadata": {},
   "source": [
    "### 03"
   ]
  },
  {
   "cell_type": "markdown",
   "id": "f29c94cb",
   "metadata": {},
   "source": [
    "#### 리프노드들은 자식이 없어서 작업할 필요가 없기 때문에 n – ⌊n/2⌋개 이다."
   ]
  },
  {
   "cell_type": "markdown",
   "id": "5a56cb23",
   "metadata": {},
   "source": [
    "### 04"
   ]
  },
  {
   "cell_type": "markdown",
   "id": "b1365e6b",
   "metadata": {},
   "source": [
    "#### 최악의 경우 : 노드의 최하위 레벨까지 내려가야할때 -> 트리 높이와 비례 Θ(log𝑛)\n",
    "#### 최선의 경우: 현재 노드가 리프노드이거나 이미 자식 보다 큰 경우 비교만 하므로 Θ(1)"
   ]
  },
  {
   "cell_type": "markdown",
   "id": "1bf609fa",
   "metadata": {},
   "source": [
    "### 05"
   ]
  },
  {
   "cell_type": "markdown",
   "id": "73afd5e5",
   "metadata": {},
   "source": [
    "#### 단순히 마지막 요소를 제거하는 것이므로 상수시간으로 처리할 수 있다."
   ]
  },
  {
   "cell_type": "markdown",
   "id": "605858ba",
   "metadata": {},
   "source": [
    "### 06"
   ]
  },
  {
   "cell_type": "markdown",
   "id": "fad907b8",
   "metadata": {},
   "source": [
    "#### 하나의 삽입연산은 최악의 경우 힙의 높이만큼 소요되므로 Θ(logn)이 걸린다. 전체 n개의 원소를 삽입한다면, 최악의 경우 Θ(logn)이 n번 소요되므로 Θ(n logn)이 소요되어 builheap()알고리즘에 비해 비효율적이다."
   ]
  },
  {
   "cell_type": "markdown",
   "id": "6f542069",
   "metadata": {},
   "source": [
    "### 07"
   ]
  },
  {
   "cell_type": "markdown",
   "id": "c8e59332",
   "metadata": {},
   "source": [
    "#### 증가한 값의 위치를 알고 있을때  부모와 비교하면서 바꾸는 형식으로 스며오르기를 수행하면 o(logn)시간에 수선할 수 있다."
   ]
  },
  {
   "cell_type": "markdown",
   "id": "7fa6aad8",
   "metadata": {},
   "source": [
    "# 6. LeetCode 703.Kth Largest Element in Stream"
   ]
  },
  {
   "cell_type": "code",
   "execution_count": null,
   "id": "06da502d",
   "metadata": {},
   "outputs": [],
   "source": [
    "#include <stdio.h>\n",
    "#include <stdlib.h>\n",
    "#define MAX_ELEMENT 200\n",
    "\n",
    "typedef struct {\n",
    "    int key;\n",
    "} element;\n",
    "\n",
    "typedef struct {\n",
    "    element heap[MAX_ELEMENT];\n",
    "    int heap_size;\n",
    "} HeapType;\n",
    "\n",
    "HeapType* createHeap() {\n",
    "    HeapType* h = (HeapType*)malloc(sizeof(HeapType));\n",
    "    if (h != NULL) {\n",
    "        h->heap_size = 0;\n",
    "    }\n",
    "    return h;\n",
    "}\n",
    "\n",
    "void insert_min_heap(HeapType* h, element item) {\n",
    "    int i = ++(h->heap_size);\n",
    "    while (i != 1 && item.key < h->heap[i / 2].key) {\n",
    "        h->heap[i] = h->heap[i / 2];\n",
    "        i /= 2;\n",
    "    }\n",
    "    h->heap[i] = item;\n",
    "}\n",
    "\n",
    "element delete_min_heap(HeapType* h) {\n",
    "    int parent = 1, child = 2;\n",
    "    element item = h->heap[1];\n",
    "    element temp = h->heap[h->heap_size--];\n",
    "    while (child <= h->heap_size) {\n",
    "        if (child < h->heap_size && h->heap[child + 1].key < h->heap[child].key)\n",
    "            child++;\n",
    "        if (temp.key <= h->heap[child].key)\n",
    "            break;\n",
    "        h->heap[parent] = h->heap[child];\n",
    "        parent = child;\n",
    "        child *= 2;\n",
    "    }\n",
    "    h->heap[parent] = temp;\n",
    "    return item;\n",
    "}\n",
    "\n",
    "typedef struct {\n",
    "    int k;\n",
    "    HeapType* minHeap;\n",
    "} KthLargest;\n",
    "\n",
    "KthLargest* kthLargestCreate(int k, int* nums, int numsSize) {\n",
    "    KthLargest* obj = (KthLargest*)malloc(sizeof(KthLargest));\n",
    "    obj->k = k;\n",
    "    obj->minHeap = createHeap();\n",
    "    for (int i = 0; i < numsSize; i++) {\n",
    "        insert_min_heap(obj->minHeap, (element){nums[i]});\n",
    "        if (obj->minHeap->heap_size > k)\n",
    "            delete_min_heap(obj->minHeap);\n",
    "    }\n",
    "    return obj;\n",
    "}\n",
    "\n",
    "int kthLargestAdd(KthLargest* obj, int val) {\n",
    "    insert_min_heap(obj->minHeap, (element){val});\n",
    "    if (obj->minHeap->heap_size > obj->k)\n",
    "        delete_min_heap(obj->minHeap);\n",
    "    return obj->minHeap->heap[1].key;\n",
    "}\n",
    "\n",
    "void kthLargestFree(KthLargest* obj) {\n",
    "    if (obj) {\n",
    "        if (obj->minHeap)\n",
    "            free(obj->minHeap);\n",
    "        free(obj);\n",
    "    }\n",
    "}"
   ]
  }
 ],
 "metadata": {
  "language_info": {
   "name": "python"
  }
 },
 "nbformat": 4,
 "nbformat_minor": 5
}
