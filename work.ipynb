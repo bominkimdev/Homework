{
 "cells": [
  {
   "cell_type": "markdown",
   "id": "7ddafcf2",
   "metadata": {},
   "source": [
    "# 3. 생일이 느린 순서로 10명의 친구를 출력하는 코드"
   ]
  },
  {
   "cell_type": "code",
   "execution_count": null,
   "id": "17fcd56d",
   "metadata": {},
   "outputs": [],
   "source": []
  },
  {
   "cell_type": "markdown",
   "id": "45f171f6",
   "metadata": {},
   "source": [
    "#### 실행결과 : "
   ]
  },
  {
   "cell_type": "markdown",
   "id": "d777ff06",
   "metadata": {},
   "source": [
    "# 4. 같은 조의 친구들만 이름과 생년월일을 출력하는 코드"
   ]
  },
  {
   "cell_type": "code",
   "execution_count": null,
   "id": "dcbe8603",
   "metadata": {},
   "outputs": [],
   "source": []
  },
  {
   "cell_type": "markdown",
   "id": "0205a732",
   "metadata": {},
   "source": [
    "#### 실행결과 : "
   ]
  },
  {
   "cell_type": "markdown",
   "id": "fd580436",
   "metadata": {},
   "source": [
    "# 5. 교재 8장 우선 순위 큐 연습문제"
   ]
  },
  {
   "cell_type": "markdown",
   "id": "88a0e217",
   "metadata": {},
   "source": [
    "### 01"
   ]
  },
  {
   "cell_type": "markdown",
   "id": "b03c4698",
   "metadata": {},
   "source": [
    "### 02"
   ]
  },
  {
   "cell_type": "markdown",
   "id": "c900460f",
   "metadata": {},
   "source": [
    "### 03"
   ]
  },
  {
   "cell_type": "markdown",
   "id": "5a56cb23",
   "metadata": {},
   "source": [
    "### 04"
   ]
  },
  {
   "cell_type": "markdown",
   "id": "1bf609fa",
   "metadata": {},
   "source": [
    "### 05"
   ]
  },
  {
   "cell_type": "markdown",
   "id": "605858ba",
   "metadata": {},
   "source": [
    "### 06"
   ]
  },
  {
   "cell_type": "markdown",
   "id": "6f542069",
   "metadata": {},
   "source": [
    "### 07"
   ]
  },
  {
   "cell_type": "markdown",
   "id": "7fa6aad8",
   "metadata": {},
   "source": [
    "# 6. LeetCode 703.Kth Largest Element in Stream"
   ]
  },
  {
   "cell_type": "code",
   "execution_count": null,
   "id": "06da502d",
   "metadata": {},
   "outputs": [],
   "source": [
    "#include <stdio.h>\n",
    "#include <stdlib.h>\n",
    "#define MAX_ELEMENT 200\n",
    "\n",
    "typedef struct {\n",
    "    int key;\n",
    "} element;\n",
    "\n",
    "typedef struct {\n",
    "    element heap[MAX_ELEMENT];\n",
    "    int heap_size;\n",
    "} HeapType;\n",
    "\n",
    "HeapType* createHeap() {\n",
    "    HeapType* h = (HeapType*)malloc(sizeof(HeapType));\n",
    "    if (h != NULL) {\n",
    "        h->heap_size = 0;\n",
    "    }\n",
    "    return h;\n",
    "}\n",
    "\n",
    "void insert_min_heap(HeapType* h, element item) {\n",
    "    int i = ++(h->heap_size);\n",
    "    while (i != 1 && item.key < h->heap[i / 2].key) {\n",
    "        h->heap[i] = h->heap[i / 2];\n",
    "        i /= 2;\n",
    "    }\n",
    "    h->heap[i] = item;\n",
    "}\n",
    "\n",
    "element delete_min_heap(HeapType* h) {\n",
    "    int parent = 1, child = 2;\n",
    "    element item = h->heap[1];\n",
    "    element temp = h->heap[h->heap_size--];\n",
    "    while (child <= h->heap_size) {\n",
    "        if (child < h->heap_size && h->heap[child + 1].key < h->heap[child].key)\n",
    "            child++;\n",
    "        if (temp.key <= h->heap[child].key)\n",
    "            break;\n",
    "        h->heap[parent] = h->heap[child];\n",
    "        parent = child;\n",
    "        child *= 2;\n",
    "    }\n",
    "    h->heap[parent] = temp;\n",
    "    return item;\n",
    "}\n",
    "\n",
    "typedef struct {\n",
    "    int k;\n",
    "    HeapType* minHeap;\n",
    "} KthLargest;\n",
    "\n",
    "KthLargest* kthLargestCreate(int k, int* nums, int numsSize) {\n",
    "    KthLargest* obj = (KthLargest*)malloc(sizeof(KthLargest));\n",
    "    obj->k = k;\n",
    "    obj->minHeap = createHeap();\n",
    "    for (int i = 0; i < numsSize; i++) {\n",
    "        insert_min_heap(obj->minHeap, (element){nums[i]});\n",
    "        if (obj->minHeap->heap_size > k)\n",
    "            delete_min_heap(obj->minHeap);\n",
    "    }\n",
    "    return obj;\n",
    "}\n",
    "\n",
    "int kthLargestAdd(KthLargest* obj, int val) {\n",
    "    insert_min_heap(obj->minHeap, (element){val});\n",
    "    if (obj->minHeap->heap_size > obj->k)\n",
    "        delete_min_heap(obj->minHeap);\n",
    "    return obj->minHeap->heap[1].key;\n",
    "}\n",
    "\n",
    "void kthLargestFree(KthLargest* obj) {\n",
    "    if (obj) {\n",
    "        if (obj->minHeap)\n",
    "            free(obj->minHeap);\n",
    "        free(obj);\n",
    "    }\n",
    "}"
   ]
  }
 ],
 "metadata": {
  "language_info": {
   "name": "python"
  }
 },
 "nbformat": 4,
 "nbformat_minor": 5
}
